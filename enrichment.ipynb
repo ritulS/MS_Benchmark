{
 "cells": [
  {
   "cell_type": "code",
   "execution_count": null,
   "metadata": {},
   "outputs": [],
   "source": [
    "### Inputs: traces_dict, node_details_dict and trace_details_dict\n",
    "# Node details dict= nid: [nis, type]\n",
    "### Config file: DB split and SLtype split\n",
    "### Outputs: updated_node_details"
   ]
  },
  {
   "cell_type": "code",
   "execution_count": 1,
   "metadata": {},
   "outputs": [
    {
     "ename": "ModuleNotFoundError",
     "evalue": "No module named 'numpy'",
     "output_type": "error",
     "traceback": [
      "\u001b[0;31m---------------------------------------------------------------------------\u001b[0m",
      "\u001b[0;31mModuleNotFoundError\u001b[0m                       Traceback (most recent call last)",
      "Cell \u001b[0;32mIn[1], line 6\u001b[0m\n\u001b[1;32m      3\u001b[0m \u001b[38;5;28;01mimport\u001b[39;00m \u001b[38;5;21;01mrandom\u001b[39;00m\n\u001b[1;32m      5\u001b[0m \u001b[38;5;28;01mimport\u001b[39;00m \u001b[38;5;21;01mnetworkx\u001b[39;00m \u001b[38;5;28;01mas\u001b[39;00m \u001b[38;5;21;01mnx\u001b[39;00m\n\u001b[0;32m----> 6\u001b[0m \u001b[38;5;28;01mimport\u001b[39;00m \u001b[38;5;21;01mnumpy\u001b[39;00m \u001b[38;5;28;01mas\u001b[39;00m \u001b[38;5;21;01mnp\u001b[39;00m\n",
      "\u001b[0;31mModuleNotFoundError\u001b[0m: No module named 'numpy'"
     ]
    }
   ],
   "source": [
    "import pickle\n",
    "import yaml\n",
    "import random\n",
    "\n",
    "import networkx as nx\n",
    "import numpy as np"
   ]
  },
  {
   "cell_type": "code",
   "execution_count": 7,
   "metadata": {},
   "outputs": [],
   "source": [
    "def pkl_to_dict(file_path):\n",
    "    with open(file_path, 'rb') as pkl_file:\n",
    "        T_prime = pickle.load(pkl_file)\n",
    "    return T_prime\n",
    "\n",
    "def read_yaml(file):\n",
    "    with open(file, 'r') as f:\n",
    "        data = yaml.safe_load(f)\n",
    "    return data\n",
    "\n",
    "def build_digraph_from_tracesdict(traces_dict):\n",
    "\n",
    "    full_graph_edge_list = []\n",
    "    for edge_list in traces_dict.values():\n",
    "        full_graph_edge_list.extend(edge_list)\n",
    "    G = nx.DiGraph()\n",
    "    G.add_edges_from(full_graph_edge_list)\n",
    "\n",
    "    return G\n"
   ]
  },
  {
   "cell_type": "code",
   "execution_count": 8,
   "metadata": {},
   "outputs": [
    {
     "name": "stdout",
     "output_type": "stream",
     "text": [
      "2330\n",
      "1652\n",
      "[['MongoDB', 699], ['Redis', 699], ['Postgres', 932]]\n",
      "[['Relay', 495], ['High', 330], ['Low', 826]]\n"
     ]
    }
   ],
   "source": [
    "# Read in configs\n",
    "config = read_yaml('enrichment_config.yaml')\n",
    "databases = config['Databases']\n",
    "sl_types = config['SLTypeSplit']\n",
    "\n",
    "db_split_arr = [[db_name, info['percentage']] for db_name, info in databases.items()]# [[DB1, 30%],...]\n",
    "sl_type_split = [[sl_type, info['percentage']] for sl_type, info in sl_types.items()]# [[Relay, 30%],...]\n",
    "\n",
    "# Node details dict= nid: [nis, SF, DB_name] (or) [nis, SL, SL_type]\n",
    "node_dets = pkl_to_dict('node_details_data.pkl')\n",
    "sf_arr = [nid for nid, n_info in node_dets.items() if n_info[1] == \"db\"]\n",
    "sl_arr = [nid for nid, n_info in node_dets.items() if n_info[1] != \"db\"]\n",
    "\n",
    "sf_count = len(sf_arr)\n",
    "sl_count = len(sl_arr)\n",
    "total_nodes = sf_count + sl_count\n",
    "\n",
    "def percent_to_count(arr, count):\n",
    "    for idx, i in enumerate(arr):\n",
    "        name = i[0]\n",
    "        arr[idx] = [name,int(count * (i[1])/100)]\n",
    "    return arr\n",
    "\n",
    "db_split_arr = percent_to_count(db_split_arr, sf_count)\n",
    "sl_type_split = percent_to_count(sl_type_split, sl_count)\n",
    "\n",
    "print(len(sf_arr))\n",
    "print(len(sl_arr))\n",
    "print(db_split_arr)\n",
    "print(sl_type_split)\n",
    "\n",
    "def assign_nodes_to_types(arr, sfsl_arr):\n",
    "    # Assign nodes to db and sl types\n",
    "    for i in arr:\n",
    "        name = i[0]\n",
    "        for _ in range(i[1]):\n",
    "            nid = sfsl_arr.pop(random.randint(0, len(sfsl_arr) - 1))\n",
    "            node_dets[nid].append(name)\n",
    "    return node_dets\n",
    "node_dets = assign_nodes_to_types(db_split_arr, sf_arr)\n",
    "node_dets = assign_nodes_to_types(sl_type_split, sl_arr)"
   ]
  },
  {
   "cell_type": "code",
   "execution_count": 7,
   "metadata": {},
   "outputs": [
    {
     "name": "stdout",
     "output_type": "stream",
     "text": [
      "1\n",
      "3982\n"
     ]
    }
   ],
   "source": [
    "check = []\n",
    "for i in node_dets.values():\n",
    "    if len(i) != 3:\n",
    "        check.append(i)\n",
    "print(len(check))\n",
    "print(len(node_dets))"
   ]
  },
  {
   "cell_type": "code",
   "execution_count": 2,
   "metadata": {},
   "outputs": [
    {
     "data": {
      "text/plain": [
       "'\\nObject id Enrichment\\n'"
      ]
     },
     "execution_count": 2,
     "metadata": {},
     "output_type": "execute_result"
    }
   ],
   "source": [
    "'''\n",
    "Object id Enrichment\n",
    "'''\n",
    "\n",
    "class Wl_config:\n",
    "    def __init__(self, record_count, record_size_dist,\\\n",
    "                 data_access_pattern, rw_ratio, async_sync_ratio):\n",
    "        self.record_count = record_count\n",
    "        self.record_size_dist = record_size_dist\n",
    "        self.data_access_pattern = data_access_pattern\n",
    "        self.rw_ratio = rw_ratio\n",
    "        self.async_sync_ratio = async_sync_ratio\n",
    "\n",
    "wl1 = Wl_config(100, 'uniform', 'zipfian', 0.5, 0.1) # to be read from config file\n",
    "\n",
    "def gen_sfnode_dataops(sf_node, G_agg, wl_config, node_dets):\n",
    "    '''\n",
    "    For a given sf node, generate indegree num of data ops\n",
    "    Return: ops_dict= Key: op_id, Value: op_packet\n",
    "    op_packet = {'op_type': op_type, 'op_obj_id': op_obj_id,\\\n",
    "                 'op_obj_size':op_obj_size,'db': sf_node_db}\n",
    "    '''\n",
    "    obj_count = wl_config.record_count\n",
    "    obj_size_dist = wl_config.record_size_dist\n",
    "    data_acc_pattern = wl_config.data_access_pattern\n",
    "    rwr = wl_config.rw_ratio\n",
    "    sf_node_db = node_dets[sf_node][2]\n",
    "    total_ops = G_agg.in_degree(sf_node)# gen indeg num of data ops\n",
    "    w_prob = rwr / (1 + rwr) # rw probability\n",
    "      \n",
    "    obj_ids_list = np.arange(1, obj_count + 1)\n",
    "    if obj_size_dist == 'lognormal':\n",
    "        obj_sizes = np.random.lognormal(mean=np.log(obj_count), \\\n",
    "                                        sigma=np.log(obj_count), \\\n",
    "                                        size=obj_count)\n",
    "        obj_sizes_dict = dict(zip(obj_ids_list, obj_sizes))# key: obj_id, value: obj_size\n",
    "    elif obj_size_dist == 'uniform':\n",
    "        obj_sizes = np.random.uniform(low=1, high=obj_count, size=obj_count)\n",
    "        obj_sizes_dict = dict(zip(obj_ids_list, obj_sizes))\n",
    "    else:\n",
    "        raise ValueError('Invalid record size distribution')\n",
    "    \n",
    "    if data_acc_pattern == 'zipfian':\n",
    "        alpha = 1\n",
    "        probabilities = np.random.zipf(alpha, len(obj_ids_list))\n",
    "        probabilities /= probabilities.sum()\n",
    "    elif data_acc_pattern == 'uniform':\n",
    "        probabilities = np.ones(len(obj_ids_list)) / len(obj_ids_list)\n",
    "    else:\n",
    "        raise ValueError('Invalid data access pattern')\n",
    "    \n",
    "    ops_dict = {}   # key: op_id, value: op_packet\n",
    "    for op_id in obj_ids_list:\n",
    "        op_type = 'write' if random.random() < w_prob else 'read'\n",
    "        op_obj_id = np.random.choice(obj_ids_list, len(obj_ids_list),\\\n",
    "                                      p=probabilities)# Select by data access pattern\n",
    "        op_obj_size = obj_sizes_dict[op_obj_id]\n",
    "        operation = {'op_type': op_type, 'op_obj_id': op_obj_id,\\\n",
    "                      'op_obj_size':op_obj_size,'db': sf_node_db} # op_packet\n",
    "        ops_dict[op_id] = operation\n",
    "    \n",
    "    return ops_dict\n",
    "\n",
    "\n",
    "# convert edges_list to node_calls_dict format\n",
    "def convert_to_node_calls_dict(edges_list):\n",
    "    node_calls_dict = {}\n",
    "    for edge in edges_list:\n",
    "        if edge[0] not in node_calls_dict:\n",
    "            node_calls_dict[edge[0]] = []\n",
    "        node_calls_dict[edge[0]].append(edge[1])\n",
    "    return node_calls_dict\n",
    "\n",
    "traces_dict = pkl_to_dict('traces/500nodes_4500traces.pkl')\n",
    "G_agg = build_digraph_from_tracesdict(traces_dict)\n",
    "for tid in traces_dict:\n",
    "    t_node_calls_dict = convert_to_node_calls_dict(traces_dict[tid])\n",
    "    traces_dict[tid] = t_node_calls_dict\n",
    "\n",
    "sf_nodes = []\n",
    "# Node details dict= nid: [nis, SF, DB_name] (or) [nis, SL, SL_type]\n",
    "overall_data_ops = {}\n",
    "for node in node_dets:\n",
    "    if node_dets[node][1] == 'db':\n",
    "        overall_data_ops[node] = gen_sfnode_dataops(node, G_agg, wl1, node_dets)\n",
    "        pass\n",
    "        \n",
    "\n",
    "\n"
   ]
  }
 ],
 "metadata": {
  "kernelspec": {
   "display_name": "myenv",
   "language": "python",
   "name": "python3"
  },
  "language_info": {
   "codemirror_mode": {
    "name": "ipython",
    "version": 3
   },
   "file_extension": ".py",
   "mimetype": "text/x-python",
   "name": "python",
   "nbconvert_exporter": "python",
   "pygments_lexer": "ipython3",
   "version": "3.10.12"
  }
 },
 "nbformat": 4,
 "nbformat_minor": 2
}
