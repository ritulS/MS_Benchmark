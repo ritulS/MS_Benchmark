{
 "cells": [
  {
   "cell_type": "code",
   "execution_count": null,
   "metadata": {},
   "outputs": [],
   "source": [
    "### Inputs: traces_dict, node_details_dict and trace_details_dict\n",
    "# Node details dict= nid: [nis, type]\n",
    "### Config file: DB split and SLtype split\n",
    "### Outputs: updated_node_details"
   ]
  },
  {
   "cell_type": "code",
   "execution_count": 2,
   "metadata": {},
   "outputs": [],
   "source": [
    "import pickle\n",
    "import yaml\n",
    "import random"
   ]
  },
  {
   "cell_type": "code",
   "execution_count": 3,
   "metadata": {},
   "outputs": [],
   "source": [
    "def pkl_to_dict(file_path):\n",
    "    with open(file_path, 'rb') as pkl_file:\n",
    "        T_prime = pickle.load(pkl_file)\n",
    "    return T_prime\n",
    "\n",
    "def read_yaml(file):\n",
    "    with open(file, 'r') as f:\n",
    "        data = yaml.safe_load(f)\n",
    "    return data\n"
   ]
  },
  {
   "cell_type": "code",
   "execution_count": 12,
   "metadata": {},
   "outputs": [],
   "source": []
  },
  {
   "cell_type": "code",
   "execution_count": 13,
   "metadata": {},
   "outputs": [
    {
     "name": "stdout",
     "output_type": "stream",
     "text": [
      "[['MongoDB', 699.0], ['Redis', 699.0], ['Postgres', 932.0]]\n"
     ]
    }
   ],
   "source": [
    "# Read in configs\n",
    "config = read_yaml('enrichment_config.yaml')\n",
    "databases = config['Databases']\n",
    "sl_types = config['SL_type_split']\n",
    "db_split_arr = []\n",
    "for db_name, percent in databases.items():\n",
    "    db_split_arr.append([db_name, percent])\n",
    "sl_type_split = []\n",
    "for sl_type, percent in sl_types.items():\n",
    "    sl_type_split.append([sl_type, percent])\n",
    "\n",
    "\n",
    "# Count number of statefull and stateless nodes\n",
    "# Node details dict= nid: [nis, SF, DB_name] (or) [nis, SL, SL_type]\n",
    "sf_arr = []\n",
    "sl_arr = []\n",
    "node_dets = pkl_to_dict('node_details_data.pkl')\n",
    "# print(node_dets)\n",
    "for nid, n_info in node_dets.items():\n",
    "    if n_info[1] == \"db\":\n",
    "        sf_arr.append(nid)\n",
    "    else:\n",
    "        sl_arr.append(nid)\n",
    "\n",
    "sf_count = len(sf_arr)\n",
    "sl_count = len(sl_arr)\n",
    "total_nodes = sf_count + sl_count\n",
    "\n",
    "def percent_to_count(arr, count):\n",
    "    for idx, i in enumerate(arr):\n",
    "        name = i[0]\n",
    "        arr[idx] = [name,count * (i[1])/100]\n",
    "    return arr\n",
    "\n",
    "db_split_arr = percent_to_count(db_split_arr, sf_count)\n",
    "sl_type_split = percent_to_count(sl_type_split, sl_count)\n",
    "\n",
    "print(db_split_arr)\n",
    "\n",
    "def assign_nodes_to_types(arr, sfsl_arr):\n",
    "    # Assign nodes to db and sl types\n",
    "    for i in arr:\n",
    "        name = i[0]\n",
    "        for j in range(i[1]):\n",
    "            nid = sfsl_arr.pop(random.randint(0, len(sfsl_arr) - 1))\n",
    "            node_dets[nid].append(name)\n",
    "    return node_dets\n",
    "node_dets = assign_nodes_to_types(db_split_arr, sf_arr)\n",
    "node_dets = assign_nodes_to_types()"
   ]
  }
 ],
 "metadata": {
  "kernelspec": {
   "display_name": "myenv",
   "language": "python",
   "name": "python3"
  },
  "language_info": {
   "codemirror_mode": {
    "name": "ipython",
    "version": 3
   },
   "file_extension": ".py",
   "mimetype": "text/x-python",
   "name": "python",
   "nbconvert_exporter": "python",
   "pygments_lexer": "ipython3",
   "version": "3.10.12"
  }
 },
 "nbformat": 4,
 "nbformat_minor": 2
}
