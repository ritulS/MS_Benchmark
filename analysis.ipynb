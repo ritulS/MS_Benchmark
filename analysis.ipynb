{
 "cells": [
  {
   "cell_type": "code",
   "execution_count": 3,
   "metadata": {},
   "outputs": [],
   "source": [
    "import pandas as pd\n",
    "import csv\n",
    "import os"
   ]
  },
  {
   "cell_type": "code",
   "execution_count": 13,
   "metadata": {},
   "outputs": [],
   "source": [
    "\"create a dataframe from all log files\"\n",
    "pf = os.listdir('logs')\n",
    "log_files = [f for f in pf if f.endswith('.csv')]\n",
    "df = pd.DataFrame(columns=['tid', 'this_nid', 'logged_time'])\n",
    "for log_file in log_files:\n",
    "    with open(\"logs/\"+log_file, mode='r') as file:\n",
    "        reader = csv.reader(file)\n",
    "        for row in reader:\n",
    "            df = pd.concat([df,pd.DataFrame([{'tid': row[0], 'this_nid': row[1], 'logged_time': row[2]}])], ignore_index=True)"
   ]
  },
  {
   "cell_type": "code",
   "execution_count": 15,
   "metadata": {},
   "outputs": [
    {
     "name": "stdout",
     "output_type": "stream",
     "text": [
      "Start time for tid 0b5218f615919497680352000ed6c1: 1728738443.3889787\n",
      "Max logged time for tid 0b5218f615919497680352000ed6c1: 1728738446.4956768\n",
      "Request completion time for tid 0b5218f615919497680352000ed6c1: 3.1066980361938477\n"
     ]
    }
   ],
   "source": [
    "'''loop over tids, get max logged time for each tid'''\n",
    "for tid in df['tid'].unique():\n",
    "    df_tid = df[df['tid'] == tid]\n",
    "    max_time = df_tid['logged_time'].max()\n",
    "    start_time = df_tid[df_tid['this_nid'] == 'mewbie_client']['logged_time'].min()\n",
    "    rct = float(max_time) - float(start_time)\n",
    "    print(f\"Start time for tid {tid}: {start_time}\")\n",
    "    print(f\"Max logged time for tid {tid}: {max_time}\")\n",
    "    print(f\"Request completion time for tid {tid}: {rct}\")"
   ]
  }
 ],
 "metadata": {
  "kernelspec": {
   "display_name": "myenv",
   "language": "python",
   "name": "python3"
  },
  "language_info": {
   "codemirror_mode": {
    "name": "ipython",
    "version": 3
   },
   "file_extension": ".py",
   "mimetype": "text/x-python",
   "name": "python",
   "nbconvert_exporter": "python",
   "pygments_lexer": "ipython3",
   "version": "3.10.12"
  }
 },
 "nbformat": 4,
 "nbformat_minor": 2
}
