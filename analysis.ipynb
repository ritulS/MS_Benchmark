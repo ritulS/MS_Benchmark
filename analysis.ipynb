{
 "cells": [
  {
   "cell_type": "code",
   "execution_count": 1,
   "metadata": {},
   "outputs": [],
   "source": [
    "import numpy as np\n",
    "import pandas as pd\n",
    "import csv\n",
    "import matplotlib.pyplot as plt\n",
    "import os, json\n",
    "import yaml\n",
    "import numpy as np"
   ]
  },
  {
   "cell_type": "code",
   "execution_count": 2,
   "metadata": {},
   "outputs": [],
   "source": [
    "\"create a dataframe from all log files\"\n",
    "pf = os.listdir('logs/last_run')\n",
    "log_files = [f for f in pf if f.endswith('.csv')]\n",
    "df = pd.DataFrame(columns=['tid', 'this_nid', 'logged_time'])\n",
    "for log_file in log_files:\n",
    "    with open(\"logs/last_run/\"+log_file, mode='r') as file:\n",
    "        reader = csv.reader(file)\n",
    "        for row in reader:\n",
    "            df = pd.concat([df,pd.DataFrame([{'tid': row[0], 'this_nid': row[1], 'logged_time': row[2]}])], ignore_index=True)"
   ]
  },
  {
   "cell_type": "code",
   "execution_count": 3,
   "metadata": {},
   "outputs": [],
   "source": [
    "'''loop over tids, get max logged time for each tid'''\n",
    "rct_results = []\n",
    "ctr = 0\n",
    "for tid in df['tid'].unique():\n",
    "    ctr += 1\n",
    "    # if ctr == 3:\n",
    "    #     break\n",
    "    df_tid = df[df['tid'] == tid]\n",
    "    max_time = df_tid['logged_time'].max()\n",
    "    start_time = df_tid[df_tid['this_nid'] == 'mewbie_client']['logged_time'].min()\n",
    "    rct = float(max_time) - float(start_time)\n",
    "    rct_results.append(rct)\n",
    "    # print(f\"Start time for tid {tid}: {start_time}\")\n",
    "    # print(f\"Max logged time for tid {tid}: {max_time}\")\n",
    "    # print(f\"Request completion time for tid {tid}: {rct}\")\n",
    "\n",
    "# write rct_results as json into results folder\n",
    "with open(\"results/pg_heavy_logs_thr1000/pgh_thr1000_results.json\", \"w\") as f:\n",
    "    json.dump(rct_results, f)\n",
    "\n",
    "# write rct values into results folder\n",
    "\n"
   ]
  },
  {
   "cell_type": "code",
   "execution_count": 5,
   "metadata": {},
   "outputs": [
    {
     "data": {
      "image/png": "[encoded data removed]",
      "text/plain": [
       "<Figure size 640x480 with 1 Axes>"
      ]
     },
     "metadata": {},
     "output_type": "display_data"
    }
   ],
   "source": [
    "'''Frequency distribution of request completion time for each rct bin by one second bins from rct_results'''\n",
    "results=[]\n",
    "for i in rct_results:\n",
    "    if i > 0:\n",
    "        results.append(i)\n",
    "plt.hist(results, bins=100)\n",
    "plt.show()\n"
   ]
  },
  {
   "cell_type": "code",
   "execution_count": null,
   "metadata": {},
   "outputs": [],
   "source": [
    "# print(rct_results)\n",
    "counts, bin_edges = np.histogram(rct_results, bins=10)\n",
    "\n",
    "# Create bin centers for the line plot\n",
    "bin_centers = (bin_edges[:-1] + bin_edges[1:]) / 2\n",
    "\n",
    "# Create the line plot\n",
    "plt.figure(figsize=(8, 6))\n",
    "plt.plot(bin_centers, counts, marker='o', linestyle='-', color='blue')\n",
    "\n",
    "# Add titles and labels\n",
    "plt.title(\"Distribution of RCT\")\n",
    "plt.xlabel(\"Rct\")\n",
    "plt.ylabel(\"Frequency\")\n",
    "\n",
    "# Show the plot\n",
    "plt.show()"
   ]
  },
  {
   "cell_type": "code",
   "execution_count": 27,
   "metadata": {},
   "outputs": [
    {
     "name": "stdout",
     "output_type": "stream",
     "text": [
      "[0, 0, 0, 0, 0, 0, 0, 0, 0, 0, 0, 0, 0, 0, 0, 0, 0, 0, 0, 0, 0, 1, 1, 1, 1, 1, 1, 1, 1, 1, 1, 1, 1, 1, 1, 1, 1, 1, 2, 2, 2, 2, 2, 2, 2, 2, 2, 3, 3, 3, 3, 3, 4, 4, 4, 5, 5, 5, 6, 6, 6, 7, 7, 8, 8, 9, 9, 10, 11, 11, 12, 13, 15, 16, 18, 20, 22, 25, 29, 33, 39, 45, 52, 62, 70, 78, 87, 97, 111, 126, 143, 164, 188, 220, 254, 289, 331, 379, 446, 3892811]\n"
     ]
    }
   ],
   "source": [
    "# with open(\"rt_stats.yml\", \"r\") as file:\n",
    "#     data = yaml.safe_load(file)\n",
    "# print(data.keys())\n",
    "# import numpy as np\n",
    "# import yaml\n",
    "\n",
    "# Load the YAML data from a file\n",
    "def load_yaml_file(file_path):\n",
    "    with open(file_path, 'r') as file:\n",
    "        data = yaml.safe_load(file)\n",
    "    return data['processing_times_sl_hist']  # Access the nested key\n",
    "\n",
    "def calculate_percentiles_from_hist(hist):\n",
    "    # Create the data array using numpy.repeat\n",
    "    values = [item['rt'] for item in hist if 'rt' in item]\n",
    "    weights = [item['count'] for item in hist if 'count' in item]\n",
    "    \n",
    "    # Use numpy's repeat function to handle large counts efficiently\n",
    "    data = np.repeat(values, weights)\n",
    "    \n",
    "    # Calculate percentiles from 1st to 100th\n",
    "    percentiles = np.percentile(data, np.arange(1, 101))\n",
    "    \n",
    "    # Round the percentiles to 3 decimal places\n",
    "    percentiles = np.round(percentiles, 2)\n",
    "    \n",
    "    return percentiles\n",
    "\n",
    "# Example of how to use the function\n",
    "yaml_data = load_yaml_file(\"rt_stats.yml\")\n",
    "percentiles = calculate_percentiles_from_hist(yaml_data)\n",
    "print([int(p) for p in percentiles])\n"
   ]
  },
  {
   "cell_type": "code",
   "execution_count": null,
   "metadata": {},
   "outputs": [],
   "source": [
    "\n",
    "with open(\"rt_stats.yml\", 'r') as file:\n",
    "    data = yaml.safe_load(file)\n",
    "# Extract the counts and response times (rt)\n",
    "counts = [item['count'] for item in data['processing_times_sl_hist']]\n",
    "rts = [item['rt'] for item in data['processing_times_sl_hist']]\n",
    "\n",
    "# Create a bar chart\n",
    "plt.bar(rts, counts)\n",
    "\n",
    "# Labeling the chart\n",
    "plt.xlabel('Response Time (rt)')\n",
    "plt.ylabel('Count')\n",
    "plt.title('Frequency Distribution of Response Times')\n",
    "\n",
    "# Display the graph\n",
    "plt.show()"
   ]
  }
 ],
 "metadata": {
  "kernelspec": {
   "display_name": "Python 3",
   "language": "python",
   "name": "python3"
  },
  "language_info": {
   "codemirror_mode": {
    "name": "ipython",
    "version": 3
   },
   "file_extension": ".py",
   "mimetype": "text/x-python",
   "name": "python",
   "nbconvert_exporter": "python",
   "pygments_lexer": "ipython3",
   "version": "3.8.10"
  }
 },
 "nbformat": 4,
 "nbformat_minor": 2
}
